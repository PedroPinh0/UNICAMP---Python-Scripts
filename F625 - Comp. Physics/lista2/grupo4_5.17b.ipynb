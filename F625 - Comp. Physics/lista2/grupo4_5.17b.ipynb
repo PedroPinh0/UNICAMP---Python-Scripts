{
 "cells": [
  {
   "cell_type": "code",
   "execution_count": 4,
   "metadata": {},
   "outputs": [
    {
     "name": "stdout",
     "output_type": "stream",
     "text": [
      "[0.8862, 2.0, 120.0, 362880.0]\n"
     ]
    }
   ],
   "source": [
    "import numpy as np\n",
    "from gaussxw import gaussxwab\n",
    "\n",
    "##############################################\n",
    "#--Função que calcula a função Gamma para----#\n",
    "#--um deteminado valor de 'a'. Para evitar---#\n",
    "#--erro de precisão, a troca de variavel-----#\n",
    "#--z = x/(x + a - 1) foi feita, alterando o--#\n",
    "#--intervalo de integração de [0, \\inf] para-#\n",
    "#--[0, 1].-----------------------------------#\n",
    "##############################################\n",
    "\n",
    "def gamma(a):\n",
    "    c = a - 1\n",
    "    \n",
    "    # Integrando da função Gamma na nova variável z\n",
    "    def f(c,z):\n",
    "        return c* np.exp(c*(np.log(c*z/(1-z)))) * np.exp(-(c*z)/(1-z))/(1 - z)**2\n",
    "    \n",
    "    # Integração feita por método de Quadratura Gaussiana\n",
    "    N = 50\n",
    "    zp, wp = gaussxwab(N, 0, 1)\n",
    "    \n",
    "    I = 0.0\n",
    "    for k in range(len(zp)):\n",
    "        I+= wp[k]*f(c,zp[k])\n",
    "    \n",
    "    # O valor de Gamma(a) é entregue arredondado\n",
    "    return round(I,4)\n",
    "\n",
    "# Testando a função para calcular um valor conhecido e alguns fatoriais\n",
    "a = [3/2, 3, 6, 10]\n",
    "print([gamma(a_i) for a_i in a])"
   ]
  },
  {
   "cell_type": "code",
   "execution_count": null,
   "metadata": {},
   "outputs": [],
   "source": []
  }
 ],
 "metadata": {
  "kernelspec": {
   "display_name": "Python 3",
   "language": "python",
   "name": "python3"
  },
  "language_info": {
   "codemirror_mode": {
    "name": "ipython",
    "version": 3
   },
   "file_extension": ".py",
   "mimetype": "text/x-python",
   "name": "python",
   "nbconvert_exporter": "python",
   "pygments_lexer": "ipython3",
   "version": "3.7.1"
  }
 },
 "nbformat": 4,
 "nbformat_minor": 2
}
