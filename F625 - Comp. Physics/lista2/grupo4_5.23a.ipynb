{
 "cells": [
  {
   "cell_type": "code",
   "execution_count": 18,
   "metadata": {},
   "outputs": [],
   "source": [
    "import numpy as np\n",
    "\n",
    "###################################################################\n",
    "#--Essa função calcula o gradiente de um campo escalar------------#\n",
    "#--f(x,y), discreto com pontos equidistantes. As entradas são-----#\n",
    "#--um grid com informações dos valores de f(x,y) para cada--------#\n",
    "#--ponto e o espaçamento entre eles. O código faz as derivadas----#\n",
    "#--direcionais levando em conta a posição do ponto no array.------#\n",
    "#--Pontos nas bordas são calculados por \"forward differences\"-----#\n",
    "#--ou \"backwards differences\" enquanto que os centrais são--------#\n",
    "#--calculados por \"central differences\".--------------------------#\n",
    "###################################################################\n",
    "\n",
    "def Grad(file, h):\n",
    "    f = np.asanyarray(file)\n",
    "    Nx, Ny = np.shape(f)[0], np.shape(f)[1]\n",
    "    \n",
    "    dx = np.zeros([Nx,Ny], float)\n",
    "    dy = dx.copy()\n",
    "    \n",
    "    # Cálculo de df/dy\n",
    "    for i in range(Nx):\n",
    "        for j in range(Ny):\n",
    "            # 'Forward diff.' para pontos na borda superior\n",
    "            if i == 0:\n",
    "                dy[i,j] = (f[i+1,j] - f[i,j])/h            \n",
    "            # 'Backward diff.' para pontos na borda inferior\n",
    "            if i == Nx - 1:\n",
    "                dy[i,j] = (f[i,j] - f[i-1,j])/h             \n",
    "            # 'Central diff.' para pontos interiores\n",
    "            else:\n",
    "                dy[i,j] = (f[i+1,j] - f[i-1,j])/(2*h)            \n",
    "    \n",
    "    # Cálculo de df/dy\n",
    "    for i in range(Nx):\n",
    "        for j in range(Ny):\n",
    "            # 'Forward diff.' para pontos na borda esquerda\n",
    "            if j == 0:\n",
    "                dx[i,j] = (f[i,j+1] - f[i,j])/h\n",
    "            # 'Backward diff.' para pontos na borda direita\n",
    "            if j == Ny - 1:\n",
    "                dx[i,j] = (f[i,j] - f[i,j-1])/h\n",
    "            # 'Central diff.' para pontos interiores\n",
    "            else:\n",
    "                dx[i,j] = (f[i,j+1] - f[i,j-1])/(2*h)            \n",
    "            \n",
    "    return dx,dy"
   ]
  }
 ],
 "metadata": {
  "kernelspec": {
   "display_name": "Python 3",
   "language": "python",
   "name": "python3"
  },
  "language_info": {
   "codemirror_mode": {
    "name": "ipython",
    "version": 3
   },
   "file_extension": ".py",
   "mimetype": "text/x-python",
   "name": "python",
   "nbconvert_exporter": "python",
   "pygments_lexer": "ipython3",
   "version": "3.7.1"
  }
 },
 "nbformat": 4,
 "nbformat_minor": 2
}
