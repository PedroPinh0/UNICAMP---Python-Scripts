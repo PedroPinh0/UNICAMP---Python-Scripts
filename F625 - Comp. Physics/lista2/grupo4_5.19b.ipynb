{
 "cells": [
  {
   "cell_type": "code",
   "execution_count": 21,
   "metadata": {},
   "outputs": [
    {
     "data": {
      "image/png": "[encoded data removed]",
      "text/plain": [
       "<Figure size 432x288 with 1 Axes>"
      ]
     },
     "metadata": {
      "needs_background": "light"
     },
     "output_type": "display_data"
    },
    {
     "data": {
      "image/png": "[encoded data removed]",
      "text/plain": [
       "<Figure size 432x288 with 1 Axes>"
      ]
     },
     "metadata": {
      "needs_background": "light"
     },
     "output_type": "display_data"
    }
   ],
   "source": [
    "import matplotlib.pyplot as plt\n",
    "import numpy as np\n",
    "from gaussxw import gaussxwab\n",
    "\n",
    "########################################\n",
    "#--Este programa, dado os parâmetros---#\n",
    "#--abaixo, entrega uma visualização----#\n",
    "#--unidimensional e bidimensional------#\n",
    "#--do padrão de interferência de uma---#\n",
    "#--grade de difração.------------------#\n",
    "########################################\n",
    "\n",
    "# N:     Número de fendas\n",
    "# lambd: Comprimento de onda\n",
    "# f:     Distância focal\n",
    "# L:     Tamanho da tela\n",
    "# d:     Espaçamento entre fendas\n",
    "# w:     Tamanho total da grade de difração\n",
    "\n",
    "N     = 10\n",
    "lambd = 500e-9      #[m]\n",
    "f     = 1           #[m]\n",
    "L     = 10e-2       #[m]\n",
    "d     = 20e-6       #[m]\n",
    "w     = N*d         #[m]\n",
    "\n",
    "# Função de transmissão da grade de difração\n",
    "def q(u,d):\n",
    "    return np.sin(u*(np.pi/d))**2\n",
    "\n",
    "#################################################\n",
    "#--O padrão de interferência é a Transformada---#\n",
    "#--de Fourier da raiz da função de transmissão--#\n",
    "#-----------------------------------------------#\n",
    "#--Para otimizar a função, os parâmetros para---#\n",
    "#--a integração por quadratura gaussiana foram--#\n",
    "#--calculados fora da função e entregues como --#\n",
    "#--argumentos.----------------------------------#\n",
    "#################################################\n",
    "\n",
    "def I_patt(x,lambd,f,d,w,u,p):\n",
    "    i = complex(0,1)\n",
    "    s = 0.0\n",
    "    for k in range(n):\n",
    "        s += p[k]*np.sqrt(q(u[k],d))*np.exp(i*2*np.pi*x*u[k]/(lambd*f))\n",
    "    return abs(s)**2\n",
    "\n",
    "n   = 200\n",
    "u,p = gaussxwab(n, -w/2, w/2)\n",
    "\n",
    "x = np.linspace(-L/2, L/2, 500)\n",
    "I = I_patt(x,lambd,f,d,w,u,p)/max(I_patt(x,lambd,f,d,w,u,p))\n",
    "\n",
    "plt.plot(x*1e2, I, '-k')\n",
    "plt.xlabel('Posição no Anteparo [cm]', size = 14)\n",
    "plt.ylabel('Intensidade Relativa', size = 14)\n",
    "#plt.savefig('im_5_19b1', dpi = 300)\n",
    "plt.show()\n",
    "\n",
    "plt.imshow((I,), aspect = 4*len(x)/20, cmap='gray', vmax = 0.15, interpolation = 'gaussian')\n",
    "#plt.savefig('im_5_19b2', dpi = 300)\n",
    "plt.show()"
   ]
  },
  {
   "cell_type": "code",
   "execution_count": null,
   "metadata": {
    "scrolled": true
   },
   "outputs": [],
   "source": []
  },
  {
   "cell_type": "code",
   "execution_count": null,
   "metadata": {},
   "outputs": [],
   "source": []
  }
 ],
 "metadata": {
  "kernelspec": {
   "display_name": "Python 3",
   "language": "python",
   "name": "python3"
  },
  "language_info": {
   "codemirror_mode": {
    "name": "ipython",
    "version": 3
   },
   "file_extension": ".py",
   "mimetype": "text/x-python",
   "name": "python",
   "nbconvert_exporter": "python",
   "pygments_lexer": "ipython3",
   "version": "3.7.1"
  }
 },
 "nbformat": 4,
 "nbformat_minor": 4
}
