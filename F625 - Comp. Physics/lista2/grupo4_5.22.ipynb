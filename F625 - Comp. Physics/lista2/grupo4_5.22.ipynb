{
 "cells": [
  {
   "cell_type": "code",
   "execution_count": 7,
   "metadata": {},
   "outputs": [
    {
     "name": "stdout",
     "output_type": "stream",
     "text": [
      "[2.0, 4.0, 8.0, 16.0, 32.0, 64.0, 128.0, 256.0, 512.0, 1024.0, 2048.0, 4096.0, 8192.0, 16384.0, 32768.0, 65536.0, 131072.05, 262145.78, 524330.67, 1049119.23]\n"
     ]
    }
   ],
   "source": [
    "import numpy as np\n",
    "from math import factorial as fact\n",
    "\n",
    "##################################################\n",
    "#--Programa que calcula a m-ésima derivada de----#\n",
    "#--uma função f(z) em z=0 utilizando a Integral--#\n",
    "#--de Cauchy no plano complexo. A integral é-----#\n",
    "#--aproximada pelo método de trapézios onde o----#\n",
    "#--caminho da integral é o circulo unitário------#\n",
    "#--centrado na origem.---------------------------#\n",
    "##################################################\n",
    "\n",
    "# Função a ser derivada\n",
    "def f(z):\n",
    "    return np.exp(2*z)\n",
    "\n",
    "def deriv_f(m):\n",
    "    N = 10000\n",
    "    i = complex(0,1)\n",
    "    \n",
    "    Sum = 0\n",
    "    for k in range(N):\n",
    "        Sum += f(np.exp(i*2*np.pi*k/N))*np.exp(-i*2*np.pi*k*m/N)\n",
    "        \n",
    "    return fact(m)*Sum/N\n",
    "\n",
    "# As 21 primeiras derivadas de f(z = 0) são calculadas \n",
    "m = np.array(range(1,21))\n",
    "deriv = np.array([deriv_f(m) for m in m])\n",
    "\n",
    "# Os elementos de 'deriv' são essencialmente complexo, vamos imprimir\n",
    "# seus modulos arredondados em 2 casas decimais\n",
    "print([round(abs(deriv[i]), 2) for i in range(len(deriv))])"
   ]
  }
 ],
 "metadata": {
  "kernelspec": {
   "display_name": "Python 3",
   "language": "python",
   "name": "python3"
  },
  "language_info": {
   "codemirror_mode": {
    "name": "ipython",
    "version": 3
   },
   "file_extension": ".py",
   "mimetype": "text/x-python",
   "name": "python",
   "nbconvert_exporter": "python",
   "pygments_lexer": "ipython3",
   "version": "3.7.1"
  }
 },
 "nbformat": 4,
 "nbformat_minor": 2
}
