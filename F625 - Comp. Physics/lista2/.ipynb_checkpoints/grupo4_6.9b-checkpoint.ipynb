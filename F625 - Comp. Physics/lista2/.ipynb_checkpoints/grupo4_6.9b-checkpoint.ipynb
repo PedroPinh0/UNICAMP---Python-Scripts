{
 "cells": [
  {
   "cell_type": "code",
   "execution_count": 2,
   "metadata": {},
   "outputs": [
    {
     "data": {
      "text/plain": [
       "[<matplotlib.lines.Line2D at 0x1eaba7ac160>]"
      ]
     },
     "execution_count": 2,
     "metadata": {},
     "output_type": "execute_result"
    },
    {
     "data": {
      "image/png": "[encoded data removed]",
      "text/plain": [
       "<Figure size 432x288 with 1 Axes>"
      ]
     },
     "metadata": {
      "needs_background": "light"
     },
     "output_type": "display_data"
    }
   ],
   "source": [
    "import numpy as np\n",
    "import matplotlib.pyplot as plt\n",
    "import matplotlib.axes as ax\n",
    "\n",
    "a = 10         #[eV]\n",
    "L = 5e-10      #[m]\n",
    "\n",
    "def H_mn(m,n,a,L):\n",
    "    h_bar = 1.0546e-34 #[Js]\n",
    "    M     = 9.1094e-31 #[kg]\n",
    "\n",
    "    q     = 1.6022e-19 #[C]\n",
    "    \n",
    "    if m == n:\n",
    "        Hmn = (a*q)/2 + (h_bar*n*np.pi/L)**2/(2*M)\n",
    "        return Hmn/q\n",
    "    \n",
    "    if m!=n and (m+n)%2 != 0:\n",
    "        Hmn = (-8*a*q*m*n)/(np.pi*(m**2 - n**2))**2\n",
    "        return Hmn/q \n",
    "    \n",
    "    else: \n",
    "        return 0\n",
    "\n",
    "N = 10\n",
    "H = [[H_mn(m,n,a,L) for m in range(1, N+1)] for n in range(1, N+1)]\n",
    "\n",
    "w,v = np.linalg.eig(H)\n",
    "\n",
    "# Indices dos 3 primeiros niveis energeticos\n",
    "index = [np.where(w == x) for x in np.sort(w)[:3]]\n",
    "ind_1 = index[0]\n",
    "ind_2 = index[1]\n",
    "ind_3 = index[2]\n",
    "\n",
    "# Autovetor associado para cada nivel energetico\n",
    "phi_1 = np.squeeze(v[:][ind_1])\n",
    "phi_2 = np.squeeze(v[:][ind_2])\n",
    "phi_3 = np.squeeze(v[:][ind_3])\n",
    "\n",
    "\n",
    "x = np.linspace(0,L,100)\n",
    "\n",
    "psi = np.empty(len(x))\n",
    "for n in range(len(phi_2)):\n",
    "    psi_n = phi_2[n]*np.sin((n+1)*np.pi*x/L)\n",
    "    psi += psi_n\n",
    "\n",
    "\n",
    "plt.plot(x,psi)\n",
    "#Psi_2   = np.array([])\n",
    "#for n in range(len(phi_1)):\n",
    "#    psi_n =  phi_2[n]*np.sin(n*np.pi*x/L)\n",
    "#    psi   += psi_n  \n",
    "\n",
    "#Psi_3   = np.array([])\n",
    "#for n in range(len(phi_1)):\n",
    "#    psi_n =  phi_3[n]*np.sin(n*np.pi*x/L)\n",
    "#    psi   += psi_n\n",
    "    \n",
    "#def Psi(phi,x,L):\n",
    "#    psi = 0\n",
    "#    for i in range(len(phi)):\n",
    "#        psi += phi[i]*np.sin(i*np.pi*x/L)\n",
    "#    return psi\n",
    "\n",
    "\n",
    "\n",
    "\n",
    "\n",
    "#Psi1 = [Psi(phi_1,x,L)**2 for x in x]\n",
    "#Psi2 = [Psi(phi_2,x,L)**2 for x in x]\n",
    "#Psi3 = [Psi(phi_3,x,L)**2 for x in x]\n",
    "\n",
    "#plot  = [Psi1, Psi2, Psi3]\n",
    "#color = ['-k', '-r', '-g']\n",
    "#label = ['n = 1', 'n = 2', 'n = 3']\n",
    "\n",
    "#plt.figure(figsize=(20,10))\n",
    "#[plt.plot(x, plot[n], color[n], label = label[n]) for n in range(3)]\n",
    "#plt.legend(loc = 'best')\n",
    "#plt.show()"
   ]
  },
  {
   "cell_type": "code",
   "execution_count": null,
   "metadata": {},
   "outputs": [],
   "source": [
    "a = np.array([1,1,1])\n",
    "b = np.array([2,2,2])\n",
    "\n",
    "a+=b\n",
    "print(a)"
   ]
  },
  {
   "cell_type": "code",
   "execution_count": null,
   "metadata": {},
   "outputs": [],
   "source": []
  }
 ],
 "metadata": {
  "kernelspec": {
   "display_name": "Python 3",
   "language": "python",
   "name": "python3"
  },
  "language_info": {
   "codemirror_mode": {
    "name": "ipython",
    "version": 3
   },
   "file_extension": ".py",
   "mimetype": "text/x-python",
   "name": "python",
   "nbconvert_exporter": "python",
   "pygments_lexer": "ipython3",
   "version": "3.7.1"
  }
 },
 "nbformat": 4,
 "nbformat_minor": 4
}
