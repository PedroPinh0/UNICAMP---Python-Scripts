{
 "cells": [
  {
   "cell_type": "code",
   "execution_count": null,
   "metadata": {},
   "outputs": [],
   "source": [
    "import numpy as np\n",
    "import matplotlib.pyplot as plt\n",
    "\n",
    "#################################################\n",
    "#--Este programa demonstra o potencial ao redor-#\n",
    "#--de duas cargas puntiformes (q1 e q2). As-----#\n",
    "#--curvas de equipotenciais são apresentadas.---#\n",
    "#--Em cada ponto é apresentado o log10 do-------#\n",
    "#--verdadeiro potencial para realçar detalhes.--#\n",
    "#################################################\n",
    "\n",
    "def Pot(d,q1,q2):\n",
    "    # qi = Valor das cargas em Coulomb\n",
    "    # d  = Distância entre cargas\n",
    "    # N  = Escala do grid [N X N]\n",
    "    # l  = Tamanho do plano\n",
    "    \n",
    "    N = 1000\n",
    "    L = 1       #[m]\n",
    "    \n",
    "    # Um grid é formado para calcular o potencial em cada ponto\n",
    "    x = y = np.linspace(-L/2, L/2,N)\n",
    "    X,Y   = np.meshgrid(x,y, sparse = True)\n",
    "    \n",
    "    # R1 e R2 são as distâncias do ponto até as cargas\n",
    "    R1  = ((X + d/2)**2 + Y**2)**0.5 \n",
    "    R2  = ((X - d/2)**2 + Y**2)**0.5\n",
    "    \n",
    "    # O potencial é calculado a menos de constantes 1/(4πϵ_0) \n",
    "    pot     = (q1/R1 + q2/R2)\n",
    "    pot_log = np.log10(abs(pot))\n",
    "    \n",
    "    P_color = plt.contourf(x, y, pot_log, 20, cmap = 'hsv')\n",
    "    plt.contour(P_color, colors = 'k', linewidths = 0.6)\n",
    "    plt.show()\n",
    "\n",
    "# As cargas são espaçadas por 10cm\n",
    "d = 10e-2   #[m]\n",
    "\n",
    "Pot(d,1,1)\n",
    "Pot(d,1,-1)"
   ]
  }
 ],
 "metadata": {
  "kernelspec": {
   "display_name": "Python 3",
   "language": "python",
   "name": "python3"
  },
  "language_info": {
   "codemirror_mode": {
    "name": "ipython",
    "version": 3
   },
   "file_extension": ".py",
   "mimetype": "text/x-python",
   "name": "python",
   "nbconvert_exporter": "python",
   "pygments_lexer": "ipython3",
   "version": "3.7.1"
  }
 },
 "nbformat": 4,
 "nbformat_minor": 2
}
