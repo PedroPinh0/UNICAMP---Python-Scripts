{
 "cells": [
  {
   "cell_type": "code",
   "execution_count": 20,
   "metadata": {},
   "outputs": [
    {
     "name": "stdout",
     "output_type": "stream",
     "text": [
      "A temperatura de maior eficiência é: 6928 K\n"
     ]
    },
    {
     "data": {
      "image/png": "[encoded data removed]",
      "text/plain": [
       "<Figure size 432x288 with 1 Axes>"
      ]
     },
     "metadata": {
      "needs_background": "light"
     },
     "output_type": "display_data"
    }
   ],
   "source": [
    "import numpy as np\n",
    "import matplotlib.pyplot as plt\n",
    "from gaussxw import gaussxwab\n",
    "\n",
    "def f(x):\n",
    "    return x**3/(np.exp(x) - 1)\n",
    "\n",
    "############################################################\n",
    "#--Esse código calcula a eficiência (percentual da---------#\n",
    "#--intensidade emitida na faixa do vísivel) para uma-------#\n",
    "#--lâmpada (aproximada para um corpo negro). A eficiência--#\n",
    "#--é calculada para uma temperatura T do corpo.------------#\n",
    "############################################################\n",
    "\n",
    "def Eff(T):\n",
    "    # k: Constante de Boltzmann\n",
    "    # c: Velocidade da luz\n",
    "    # h: Constante de Planck\n",
    "    # lamb_i: Limites da faixa de radiação vísivel\n",
    "    \n",
    "    k      = 1.38064852e-23  # [m^2 kg s^-2 k^-1]\n",
    "    c      = 299792458       # [m/s]\n",
    "    h      = 6.62607015e-34  # [m^2 kg/s]\n",
    "    lamb_1 = 390e-9          # [m]\n",
    "    lamb_2 = 750e-9          # [m]\n",
    "    \n",
    "    a = (h*c)/(k*T*lamb_2)\n",
    "    b = (h*c)/(k*T*lamb_1)\n",
    "    \n",
    "    # Integração Gaussiana\n",
    "    N     = 100\n",
    "    xp,wp = gaussxwab(N, a, b)\n",
    "    I = 0\n",
    "    for k in range(N):\n",
    "        I += wp[k]*f(xp[k])\n",
    "        \n",
    "    return 15*I/np.pi**4\n",
    "\n",
    "T   = np.linspace(300, 10000, 100)\n",
    "eff = np.array([Eff(T) for T in T])\n",
    "\n",
    "#####################################################################\n",
    "#--Tendo o perfil da eficiência pela temperatura podemos------------#\n",
    "#--calcular a temperatura de maior eficiência pelo método-----------#\n",
    "#--de busca da razão aurea. A função necessita do array-------------#\n",
    "#--onde será feita a busca, pontos iníciais e uma acurácia limite.--#\n",
    "#####################################################################\n",
    "def gld_srch(f, p0, acc):\n",
    "    x0, x3 = p0[0], p0[1]\n",
    "    phi    = (1 + np.sqrt(5))/2\n",
    "    d      = (x3 - x0)/phi\n",
    "    \n",
    "    x1 = x0 + d\n",
    "    x2 = x3 - d\n",
    "    \n",
    "    while (x3 - x0) > acc:\n",
    "        if f(x1) > f(x2):\n",
    "            x0 = x2\n",
    "            x2 = x1\n",
    "            x1 = x0 + (x3 - x0)/phi\n",
    "            \n",
    "        else:\n",
    "            x3 = x1\n",
    "            x1 = x2\n",
    "            x2 = x3 - (x3 - x0)/phi\n",
    "    \n",
    "    return (x3 + x0)/2\n",
    "\n",
    "# A temperatura de máxima eficiência é calcula com precisão de 1K\n",
    "Max_T = gld_srch(Eff, [6e3,8e3], 1)                \n",
    "print(\"A temperatura de maior eficiência é: %d K\" %Max_T)\n",
    "\n",
    "plt.plot(T/1000, eff, '-k')\n",
    "plt.grid(alpha = 0.5)\n",
    "plt.xlabel('T[k]/1000', size = 14)\n",
    "plt.ylabel('Eficiência', size = 14)\n",
    "plt.axvline(x = Max_T/1000, linestyle = '--', color = 'r', ymax = 0.96)\n",
    "plt.text(7, 0.35, \"6928 K\", fontsize = 12)\n",
    "plt.show()"
   ]
  }
 ],
 "metadata": {
  "kernelspec": {
   "display_name": "Python 3",
   "language": "python",
   "name": "python3"
  },
  "language_info": {
   "codemirror_mode": {
    "name": "ipython",
    "version": 3
   },
   "file_extension": ".py",
   "mimetype": "text/x-python",
   "name": "python",
   "nbconvert_exporter": "python",
   "pygments_lexer": "ipython3",
   "version": "3.7.1"
  }
 },
 "nbformat": 4,
 "nbformat_minor": 2
}
