{
 "cells": [
  {
   "cell_type": "code",
   "execution_count": null,
   "metadata": {},
   "outputs": [],
   "source": [
    "import numpy as np\n",
    "import matplotlib.pyplot as plt\n",
    "\n",
    "###################################\n",
    "#--Programa que gráfica a função--#\n",
    "#--f(x) = x**(a-1)*np.exp(-x)-----#\n",
    "#--para diferentes valores de a---#\n",
    "###################################\n",
    "\n",
    "def f(a,x):\n",
    "    return x**(a-1)*np.exp(-x)\n",
    "\n",
    "a = [2, 3, 4]\n",
    "c = ['-r', '-k', '-b']\n",
    "x = np.linspace(0,5,100)\n",
    "y = [f(a,x) for a in a]\n",
    "\n",
    "for i in range(0,3):\n",
    "    plt.plot(x, y[i], c[i], label = 'a = %d' %a[i])\n",
    "\n",
    "plt.legend(loc = 'best')\n",
    "plt.grid()\n",
    "plt.show()"
   ]
  },
  {
   "cell_type": "code",
   "execution_count": 20,
   "metadata": {},
   "outputs": [
    {
     "name": "stdout",
     "output_type": "stream",
     "text": [
      "2.0\n"
     ]
    }
   ],
   "source": [
    "import numpy as np\n",
    "from gaussxw import gaussxwab\n",
    "\n",
    "##############################################\n",
    "#--Função que calcula a função Gamma para----#\n",
    "#--um deteminado valor de 'a'. Para evitar---#\n",
    "#--erro de precisão, a troca de variavel-----#\n",
    "#--z = x/(x + a - 1) foi feita, alterando o--#\n",
    "#--intervalo de integração de [0, \\inf] para-#\n",
    "#--[0, 1].-----------------------------------#\n",
    "##############################################\n",
    "\n",
    "def gamma(a):\n",
    "    c = a - 1\n",
    "    \n",
    "    # Integrando da função Gamma nas nova variável z\n",
    "    def f(c,z):\n",
    "        return c* np.exp(c*(np.log(c*z/(1-z)))) * np.exp(-(c*z)/(1-z))/(1 - z)**2\n",
    "    \n",
    "    # Integração feita por método de Quadratura Gaussiana\n",
    "    N = 50\n",
    "    zp, wp = gaussxwab(N, 0, 1)\n",
    "    \n",
    "    I = 0.0\n",
    "    for k in range(len(zp)):\n",
    "        I+= wp[k]*f(c,zp[k])\n",
    "    \n",
    "    # O valor de Gamma(a) é entregue arredondado em uma casa decimal\n",
    "    return round(I,2)\n",
    "\n",
    "print(gamma(3))"
   ]
  },
  {
   "cell_type": "code",
   "execution_count": null,
   "metadata": {},
   "outputs": [],
   "source": []
  }
 ],
 "metadata": {
  "kernelspec": {
   "display_name": "Python 3",
   "language": "python",
   "name": "python3"
  },
  "language_info": {
   "codemirror_mode": {
    "name": "ipython",
    "version": 3
   },
   "file_extension": ".py",
   "mimetype": "text/x-python",
   "name": "python",
   "nbconvert_exporter": "python",
   "pygments_lexer": "ipython3",
   "version": "3.7.1"
  }
 },
 "nbformat": 4,
 "nbformat_minor": 2
}
