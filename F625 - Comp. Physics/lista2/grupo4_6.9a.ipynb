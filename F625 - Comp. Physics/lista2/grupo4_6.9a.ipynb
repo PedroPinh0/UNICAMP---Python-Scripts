{
 "cells": [
  {
   "cell_type": "code",
   "execution_count": 10,
   "metadata": {},
   "outputs": [
    {
     "name": "stdout",
     "output_type": "stream",
     "text": [
      "Digite m e n separados por espaço: 1 1\n",
      "6.504176415631115\n"
     ]
    }
   ],
   "source": [
    "import numpy as np\n",
    "\n",
    "a = 10         #[eV]\n",
    "L = 5e-10      #[m]\n",
    "\n",
    "# Esta função calcula os elementos H_mn da matrix do Hamiltoniano \n",
    "def H_mn(m,n,a,L):\n",
    "    h_bar = 1.0546e-34 #[Js]\n",
    "    M     = 9.1094e-31 #[kg]\n",
    "    q     = 1.6022e-19 #[C]\n",
    "    \n",
    "    # A carga do elétron é utilizada para converter eV em J\n",
    "    if m == n:\n",
    "        Hmn = (a*q)/2 + (h_bar*n*np.pi/L)**2/(2*M)\n",
    "        return Hmn/q\n",
    "    \n",
    "    if m!=n and (m+n)%2 != 0:\n",
    "        Hmn = (-8*a*q*m*n)/(np.pi*(m**2 - n**2))**2\n",
    "        return Hmn/q \n",
    "    \n",
    "    else: \n",
    "        return 0\n",
    "    \n",
    "m,n = list(map(int, input(\"Digite m e n separados por espaço: \").split()))\n",
    "print(H_mn(m,n,a,L))"
   ]
  }
 ],
 "metadata": {
  "kernelspec": {
   "display_name": "Python 3",
   "language": "python",
   "name": "python3"
  },
  "language_info": {
   "codemirror_mode": {
    "name": "ipython",
    "version": 3
   },
   "file_extension": ".py",
   "mimetype": "text/x-python",
   "name": "python",
   "nbconvert_exporter": "python",
   "pygments_lexer": "ipython3",
   "version": "3.7.1"
  }
 },
 "nbformat": 4,
 "nbformat_minor": 2
}
