{
 "cells": [
  {
   "cell_type": "code",
   "execution_count": 1,
   "metadata": {},
   "outputs": [
    {
     "data": {
      "text/html": [
       "<div id=\"glowscript\" class=\"glowscript\"></div>"
      ],
      "text/plain": [
       "<IPython.core.display.HTML object>"
      ]
     },
     "metadata": {},
     "output_type": "display_data"
    },
    {
     "data": {
      "application/javascript": [
       "if (typeof Jupyter !== \"undefined\") { window.__context = { glowscript_container: $(\"#glowscript\").removeAttr(\"id\")};}else{ element.textContent = ' ';}"
      ],
      "text/plain": [
       "<IPython.core.display.Javascript object>"
      ]
     },
     "metadata": {},
     "output_type": "display_data"
    },
    {
     "ename": "ImportError",
     "evalue": "cannot import name 'update' from 'vpython' (/Users/pedropinho/opt/anaconda3/lib/python3.7/site-packages/vpython/__init__.py)",
     "output_type": "error",
     "traceback": [
      "\u001b[0;31m---------------------------------------------------------------------------\u001b[0m",
      "\u001b[0;31mImportError\u001b[0m                               Traceback (most recent call last)",
      "\u001b[0;32m<ipython-input-1-cd1edc32d450>\u001b[0m in \u001b[0;36m<module>\u001b[0;34m\u001b[0m\n\u001b[0;32m----> 1\u001b[0;31m \u001b[0;32mfrom\u001b[0m \u001b[0mvpython\u001b[0m \u001b[0;32mimport\u001b[0m \u001b[0msphere\u001b[0m\u001b[0;34m,\u001b[0m \u001b[0mcanvas\u001b[0m\u001b[0;34m,\u001b[0m \u001b[0mupdate\u001b[0m\u001b[0;34m,\u001b[0m \u001b[0mvector\u001b[0m\u001b[0;34m,\u001b[0m \u001b[0mcolor\u001b[0m\u001b[0;34m,\u001b[0m \u001b[0mbox\u001b[0m\u001b[0;34m\u001b[0m\u001b[0;34m\u001b[0m\u001b[0m\n\u001b[0m\u001b[1;32m      2\u001b[0m \u001b[0;32mfrom\u001b[0m \u001b[0mrandom\u001b[0m \u001b[0;32mimport\u001b[0m \u001b[0mchoice\u001b[0m\u001b[0;34m\u001b[0m\u001b[0;34m\u001b[0m\u001b[0m\n\u001b[1;32m      3\u001b[0m \u001b[0;32mimport\u001b[0m \u001b[0mnumpy\u001b[0m \u001b[0;32mas\u001b[0m \u001b[0mnp\u001b[0m\u001b[0;34m\u001b[0m\u001b[0;34m\u001b[0m\u001b[0m\n\u001b[1;32m      4\u001b[0m \u001b[0;34m\u001b[0m\u001b[0m\n\u001b[1;32m      5\u001b[0m \u001b[0mD\u001b[0m \u001b[0;34m=\u001b[0m \u001b[0;36m201\u001b[0m \u001b[0;31m#Dimensões do grid\u001b[0m\u001b[0;34m\u001b[0m\u001b[0;34m\u001b[0m\u001b[0m\n",
      "\u001b[0;31mImportError\u001b[0m: cannot import name 'update' from 'vpython' (/Users/pedropinho/opt/anaconda3/lib/python3.7/site-packages/vpython/__init__.py)"
     ]
    }
   ],
   "source": [
    "from vpython import sphere, canvas, rate, vector, color, box\n",
    "from random import choice\n",
    "import numpy as np\n",
    "\n",
    "D = 201 #Dimensões do grid\n",
    "\n",
    "# Array com possiveís movimentos\n",
    "seq = [vector(1,0,0), vector(-1,0,0), vector(0,1,0), vector(0,-1,0)]    \n",
    "    \n",
    "# Inicialização da cena e dos objetos\n",
    "scene = canvas(title = 'Agregação limitada por difusão')\n",
    "b     = box(pos = vector(0,0,-0.1), length = D, height = D, width = 0.1) \n",
    "\n",
    "# Matriz que armazena a posição das partículas ancoradas\n",
    "# 1: Preenchida; 0: Disponível\n",
    "Anch = np.zeros([D,D], int)\n",
    "\n",
    "end = False\n",
    "i   = 0\n",
    "while end == False:\n",
    "    rate(50000)\n",
    "    choque = False\n",
    "    i += 0.0001\n",
    "    \n",
    "    # Vetor posicao da particula virtual que representa a particula que estaria se movimentando aleatoriamente\n",
    "    Pos = vector(0,0,0)\n",
    "        \n",
    "    while choque == False:\n",
    "        chc = choice(seq)\n",
    "        \n",
    "        # Verificando se a particula nao atingiu a borda ou uma particula ancorada\n",
    "        if abs(Pos.y)<(D-1)/2 and abs(Pos.x)<(D-1)/2 and Anch[int(Pos.x + chc.x + (D-1)/2),int(-Pos.y - chc.y + (D-1)/2)]==0:\n",
    "            Pos += chc\n",
    "        \n",
    "        # Caso a particula virtual colida com uma particula ou a parede adicionamos uma particula real no lugar \n",
    "        else:\n",
    "            Anch[int(Pos.x + (D-1)/2), int((D-1)/2 - Pos.y)] = 1\n",
    "            sphere(pos = Pos, radius = 0.5, color = vector(1-i,i,0))\n",
    "            choque = True\n",
    "\n",
    "    # A animação acaba quando a agragação atingir o centro\n",
    "    if Anch[int((D-1)/2),int((D-1)/2)] == 1:\n",
    "        end = True\n",
    "        \n",
    "print('Fim')"
   ]
  },
  {
   "cell_type": "code",
   "execution_count": null,
   "metadata": {},
   "outputs": [],
   "source": []
  }
 ],
 "metadata": {
  "kernelspec": {
   "display_name": "Python 3",
   "language": "python",
   "name": "python3"
  },
  "language_info": {
   "codemirror_mode": {
    "name": "ipython",
    "version": 3
   },
   "file_extension": ".py",
   "mimetype": "text/x-python",
   "name": "python",
   "nbconvert_exporter": "python",
   "pygments_lexer": "ipython3",
   "version": "3.7.4"
  }
 },
 "nbformat": 4,
 "nbformat_minor": 2
}
