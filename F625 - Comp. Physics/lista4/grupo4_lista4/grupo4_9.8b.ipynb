{
 "cells": [
  {
   "cell_type": "code",
   "execution_count": null,
   "metadata": {
    "scrolled": true
   },
   "outputs": [
    {
     "data": {
      "text/html": [
       "<div id=\"glowscript\" class=\"glowscript\"></div>"
      ],
      "text/plain": [
       "<IPython.core.display.HTML object>"
      ]
     },
     "metadata": {},
     "output_type": "display_data"
    },
    {
     "data": {
      "application/javascript": [
       "if (typeof Jupyter !== \"undefined\") { window.__context = { glowscript_container: $(\"#glowscript\").removeAttr(\"id\")};}else{ element.textContent = ' ';}"
      ],
      "text/plain": [
       "<IPython.core.display.Javascript object>"
      ]
     },
     "metadata": {},
     "output_type": "display_data"
    },
    {
     "data": {
      "text/html": [
       "<div id=\"glowscript\" class=\"glowscript\"></div>"
      ],
      "text/plain": [
       "<IPython.core.display.HTML object>"
      ]
     },
     "metadata": {},
     "output_type": "display_data"
    },
    {
     "data": {
      "application/javascript": [
       "if (typeof Jupyter !== \"undefined\") { window.__context = { glowscript_container: $(\"#glowscript\").removeAttr(\"id\")};}else{ element.textContent = ' ';}"
      ],
      "text/plain": [
       "<IPython.core.display.Javascript object>"
      ]
     },
     "metadata": {},
     "output_type": "display_data"
    },
    {
     "data": {
      "application/javascript": [
       "if (typeof Jupyter !== \"undefined\") {require.undef(\"nbextensions/vpython_libraries/glow.min\");}else{element.textContent = ' ';}"
      ],
      "text/plain": [
       "<IPython.core.display.Javascript object>"
      ]
     },
     "metadata": {},
     "output_type": "display_data"
    },
    {
     "data": {
      "application/javascript": [
       "if (typeof Jupyter !== \"undefined\") {require.undef(\"nbextensions/vpython_libraries/glowcomm\");}else{element.textContent = ' ';}"
      ],
      "text/plain": [
       "<IPython.core.display.Javascript object>"
      ]
     },
     "metadata": {},
     "output_type": "display_data"
    },
    {
     "data": {
      "application/javascript": [
       "if (typeof Jupyter !== \"undefined\") {require.undef(\"nbextensions/vpython_libraries/jquery-ui.custom.min\");}else{element.textContent = ' ';}"
      ],
      "text/plain": [
       "<IPython.core.display.Javascript object>"
      ]
     },
     "metadata": {},
     "output_type": "display_data"
    },
    {
     "data": {
      "application/javascript": [
       "if (typeof Jupyter !== \"undefined\") {require([\"nbextensions/vpython_libraries/glow.min\"], function(){console.log(\"GLOW LOADED\");});}else{element.textContent = ' ';}"
      ],
      "text/plain": [
       "<IPython.core.display.Javascript object>"
      ]
     },
     "metadata": {},
     "output_type": "display_data"
    },
    {
     "data": {
      "application/javascript": [
       "if (typeof Jupyter !== \"undefined\") {require([\"nbextensions/vpython_libraries/glowcomm\"], function(){console.log(\"GLOWCOMM LOADED\");});}else{element.textContent = ' ';}"
      ],
      "text/plain": [
       "<IPython.core.display.Javascript object>"
      ]
     },
     "metadata": {},
     "output_type": "display_data"
    },
    {
     "data": {
      "application/javascript": [
       "if (typeof Jupyter !== \"undefined\") {require([\"nbextensions/vpython_libraries/jquery-ui.custom.min\"], function(){console.log(\"JQUERY LOADED\");});}else{element.textContent = ' ';}"
      ],
      "text/plain": [
       "<IPython.core.display.Javascript object>"
      ]
     },
     "metadata": {},
     "output_type": "display_data"
    }
   ],
   "source": [
    "import numpy as np\n",
    "import matplotlib.pyplot as plt\n",
    "from banded import banded\n",
    "from vpython import canvas, rate, curve, vector, sphere\n",
    "\n",
    "'''\n",
    "Cálculo da evolução de pacote de onda gaussiano\n",
    "por meio da resolução da equação de Schrodinger\n",
    "dependente do tempo por meio do método de Crank\n",
    "Nicholson.\n",
    "\n",
    "A solução é animada por meio de VPyton utilizando\n",
    "o objeto `curve` para simular o função de onda.\n",
    "'''\n",
    "\n",
    "# Constantes\n",
    "L     = 1e-8         # Dimensão do poço de potencial [m] \n",
    "m     = 9.109e-31    # Massa do elétron [kg] \n",
    "h_b   = 1.054e-34    # Constante de planck reduzida [J*s] \n",
    "N     = 1000         # Número de pontos\n",
    "a     = L/N          # Espaçamento dos pontos [m] \n",
    "h     = 1e-18        # Intervalo de tempo [s]\n",
    "i     = complex(0,1)\n",
    "F     = 1.5e-9\n",
    "\n",
    "# Parâmetros da condição inicial\n",
    "x_0 = L/2     #[m]\n",
    "sig = 1e-10   #[m]\n",
    "k   = 5e10    #[m]\n",
    "\n",
    "# Condição inicial da função de onda\n",
    "def wave_f_0(x):\n",
    "    return np.exp(-(x-x_0)**2/(2*sig**2))*np.exp(i*k*x)\n",
    "\n",
    "X     = np.arange(0,L,a)\n",
    "psi_0 = wave_f_0(X)\n",
    "\n",
    "# Coeficientes para as matrizes tridiagonais\n",
    "b2 = h*(i*h_b)/(4*m*a**2)\n",
    "b1 = 1 - 2*b2\n",
    "a2 = -h*(i*h_b)/(4*m*a**2)\n",
    "a1 = 1 - 2*a2\n",
    "\n",
    "# Gerando a matrix A\n",
    "A = np.zeros([3,N], complex)\n",
    "A[0,:] = a2\n",
    "A[1,:] = a1\n",
    "A[2,:] = a2\n",
    "\n",
    "# Vetor solução do sistema\n",
    "v = np.zeros(N,complex)\n",
    "\n",
    "# Inicialização da cena e da 'corda' onde a onda se propaga\n",
    "scene = canvas(title = 'Partícula confinada')\n",
    "wave  = curve(vector(-L/2,0,0), radius = a/3)\n",
    "for i in range(1,N):\n",
    "    wave.append(vector(X[i] - L/2, psi_0.real[i]*F,0), radius = a)\n",
    "\n",
    "while 1:\n",
    "    rate(120)\n",
    "    \n",
    "    # Resolvendo o sistema\n",
    "    v[1:N-1] = b1*psi_0[1:N-1] + b2*(psi_0[2:N] + psi_0[0:N-2])\n",
    "    psi_0    = banded(A,v,1,1)\n",
    "    \n",
    "    for i in range(1,N-1):\n",
    "        wave.modify(i, y = F*psi_0.real[i])"
   ]
  },
  {
   "cell_type": "code",
   "execution_count": null,
   "metadata": {},
   "outputs": [],
   "source": []
  },
  {
   "cell_type": "code",
   "execution_count": null,
   "metadata": {},
   "outputs": [],
   "source": []
  },
  {
   "cell_type": "code",
   "execution_count": null,
   "metadata": {},
   "outputs": [],
   "source": []
  }
 ],
 "metadata": {
  "kernelspec": {
   "display_name": "Python 3",
   "language": "python",
   "name": "python3"
  },
  "language_info": {
   "codemirror_mode": {
    "name": "ipython",
    "version": 3
   },
   "file_extension": ".py",
   "mimetype": "text/x-python",
   "name": "python",
   "nbconvert_exporter": "python",
   "pygments_lexer": "ipython3",
   "version": "3.7.4"
  }
 },
 "nbformat": 4,
 "nbformat_minor": 2
}
