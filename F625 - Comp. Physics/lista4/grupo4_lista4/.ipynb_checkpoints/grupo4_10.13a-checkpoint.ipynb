{
 "cells": [
  {
   "cell_type": "code",
   "execution_count": null,
   "metadata": {},
   "outputs": [],
   "source": [
    "from vpython import sphere, canvas, rate, vector, color, box\n",
    "from random import choice\n",
    "import numpy as np\n",
    "\n",
    "'''Simulação do Agregação limitada por difusão. Nesta\n",
    "simulação é possível ver o movimento das partículas até \n",
    "atingirem as paredes ou outras partículas já agregadas.\n",
    "O movimento das partículas é aleatório - Movimento \n",
    "Browniano. A animação é finalizada quando alguma partícula\n",
    "agregada atingir o centro da figura.'''\n",
    "\n",
    "D = 101 #Dimensões do grid\n",
    "\n",
    "# Array com possiveís movimentos\n",
    "seq = [vector(1,0,0), vector(-1,0,0), vector(0,1,0), vector(0,-1,0)]    \n",
    "    \n",
    "# Inicialização da cena e dos objetos\n",
    "scene = canvas(title = 'Agregação limitada por difusão')\n",
    "b     = box(pos = vector(0,0,-0.1), length = D, height = D, width = 0.1) \n",
    "\n",
    "# Matriz que armazena a posição das partículas ancoradas\n",
    "# 1: Preenchida; 0: Disponível\n",
    "Anch = np.zeros([D,D], int)\n",
    "\n",
    "end = False\n",
    "i   = 0\n",
    "while end == False:\n",
    "    choque = False\n",
    "    s  = sphere(pos = vector(0,0,0), radius = 0.5, color = vector(1-i,0+i,0))\n",
    "    i += 0.0007\n",
    "    while choque == False:\n",
    "        # Taxa de atualização (Aumente para tornar mais rapido)\n",
    "        rate(5000)\n",
    "        chc = choice(seq)\n",
    "        \n",
    "        # Verificando se a particula nao atingiu a borda ou uma particula ancorada\n",
    "        if abs(s.pos.y)<(D-1)/2 and abs(s.pos.x)<(D-1)/2 and Anch[int(s.pos.x + chc.x + (D-1)/2),int((D-1)/2 -s.pos.y - chc.y)]==0:\n",
    "            s.pos += chc\n",
    "        \n",
    "        # Caso ela colida com uma particula ou a parede, adicionamos ela na matriz \n",
    "        else:\n",
    "            Anch[int(s.pos.x + (D-1)/2), int((D-1)/2 - s.pos.y)] = 1\n",
    "            choque = True\n",
    "\n",
    "    # A animação acaba quando a agragação atingir o centro\n",
    "    if Anch[int((D-1)/2),int((D-1)/2)] == 1:\n",
    "        end = True\n",
    "        \n",
    "print('Fim')"
   ]
  }
 ],
 "metadata": {
  "kernelspec": {
   "display_name": "Python 3",
   "language": "python",
   "name": "python3"
  },
  "language_info": {
   "codemirror_mode": {
    "name": "ipython",
    "version": 3
   },
   "file_extension": ".py",
   "mimetype": "text/x-python",
   "name": "python",
   "nbconvert_exporter": "python",
   "pygments_lexer": "ipython3",
   "version": "3.7.4"
  }
 },
 "nbformat": 4,
 "nbformat_minor": 2
}
