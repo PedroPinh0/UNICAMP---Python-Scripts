{
 "cells": [
  {
   "cell_type": "code",
   "execution_count": 11,
   "metadata": {},
   "outputs": [
    {
     "data": {
      "image/png": "[encoded data removed]",
      "text/plain": [
       "<Figure size 432x288 with 1 Axes>"
      ]
     },
     "metadata": {
      "needs_background": "light"
     },
     "output_type": "display_data"
    }
   ],
   "source": [
    "import numpy as np\n",
    "import matplotlib.pyplot as plt\n",
    "\n",
    "# Constantes\n",
    "D   = 0.1   # [mˆ2/dia] Constante de Difusão da crosta\n",
    "A   = 10    # [°C]\n",
    "B   = 12    # [°C]\n",
    "tau = 365   # [dias]\n",
    "N   = 100   # Número de pontos no grid\n",
    "h   = 1e-2  # [dia] Intervalo de tempo \n",
    "L   = 20    # [m] Profundidade máxima\n",
    "a   = L/N   # [m] Espaçamento dos pontos\n",
    "inc = h/1e2 # [dia] Incerteza\n",
    "\n",
    "# Função que calcula a temperatura \n",
    "# média da terra por dia do ano\n",
    "def T_mean(t):\n",
    "    return A + B*np.sin(2*np.pi*t/tau)\n",
    "\n",
    "# Inicialização do array de temperaturas\n",
    "T = np.array([10.0]*(N+1), float)\n",
    "T[0], T[N] = T_mean(0), 11   # Temperatura inicial no topo e fundo da crosta\n",
    "\n",
    "# Array de pontos da crosta\n",
    "X = np.linspace(0,20,N+1)\n",
    "\n",
    "# Evolução da temperatura por um periodo de 9 anos\n",
    "tempo = h\n",
    "while tempo <= 365*9:\n",
    "    T[1:N] = T[1:N] + (D*h/a**2)*(T[2:N+1] + T[0:N-1] - 2*T[1:N])\n",
    "    T[0] = T_mean(h)\n",
    "    tempo += h\n",
    "\n",
    "# Evolução da temperatura no último ano, com intervalos de 3 meses\n",
    "plt.figure()\n",
    "t = h\n",
    "while t < 365:\n",
    "    T[1:N] = T[1:N] + (D*h/a**2)*(T[2:N+1] + T[0:N-1] - 2*T[1:N])\n",
    "    T[0] = T_mean(t)\n",
    "    t += h\n",
    "\n",
    "    # Perfil da temperatura no primeiro trimestre\n",
    "    if abs(t - 91.25*1) < inc:\n",
    "        plt.plot(X,T, '-k', label = \"1° Trimestre\")\n",
    "\n",
    "    # Perfil da temperatura no segundo trimestre\n",
    "    if abs(t - 91.25*2) < inc:\n",
    "        plt.plot(X,T, '-r', label = \"2° Trimestre\")\n",
    "    \n",
    "    # Perfil da temperatura no terceiro trimestre\n",
    "    if abs(t - 91.25*3) < inc:\n",
    "        plt.plot(X,T, '-g', label = \"3° Trimestre\")\n",
    "    \n",
    "    # Perfil da temperatura no quarto trimestre\n",
    "    if abs(t - 91.25*4) < inc:\n",
    "        plt.plot(X,T, '-b', label = \"4° Trimestre\")   \n",
    "\n",
    "plt.xlabel(\"Profundidade [m]\", size = 14)\n",
    "plt.ylabel(\"Temperatura [°C]\", size = 14)\n",
    "plt.grid(alpha = 0.5)\n",
    "plt.legend(loc = 'best')\n",
    "plt.show()"
   ]
  },
  {
   "cell_type": "code",
   "execution_count": null,
   "metadata": {},
   "outputs": [],
   "source": []
  },
  {
   "cell_type": "code",
   "execution_count": null,
   "metadata": {},
   "outputs": [],
   "source": []
  }
 ],
 "metadata": {
  "kernelspec": {
   "display_name": "Python 3",
   "language": "python",
   "name": "python3"
  },
  "language_info": {
   "codemirror_mode": {
    "name": "ipython",
    "version": 3
   },
   "file_extension": ".py",
   "mimetype": "text/x-python",
   "name": "python",
   "nbconvert_exporter": "python",
   "pygments_lexer": "ipython3",
   "version": "3.7.4"
  }
 },
 "nbformat": 4,
 "nbformat_minor": 2
}
