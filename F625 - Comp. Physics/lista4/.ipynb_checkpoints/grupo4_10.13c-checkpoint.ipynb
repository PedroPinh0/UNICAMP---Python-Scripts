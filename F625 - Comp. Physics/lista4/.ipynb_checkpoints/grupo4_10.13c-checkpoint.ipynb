{
 "cells": [
  {
   "cell_type": "code",
   "execution_count": null,
   "metadata": {},
   "outputs": [
    {
     "data": {
      "text/html": [
       "<div id=\"glowscript\" class=\"glowscript\"></div>"
      ],
      "text/plain": [
       "<IPython.core.display.HTML object>"
      ]
     },
     "metadata": {},
     "output_type": "display_data"
    },
    {
     "data": {
      "application/javascript": [
       "if (typeof Jupyter !== \"undefined\") { window.__context = { glowscript_container: $(\"#glowscript\").removeAttr(\"id\")};}else{ element.textContent = ' ';}"
      ],
      "text/plain": [
       "<IPython.core.display.Javascript object>"
      ]
     },
     "metadata": {},
     "output_type": "display_data"
    },
    {
     "data": {
      "text/html": [
       "<div id=\"glowscript\" class=\"glowscript\"></div>"
      ],
      "text/plain": [
       "<IPython.core.display.HTML object>"
      ]
     },
     "metadata": {},
     "output_type": "display_data"
    },
    {
     "data": {
      "application/javascript": [
       "if (typeof Jupyter !== \"undefined\") { window.__context = { glowscript_container: $(\"#glowscript\").removeAttr(\"id\")};}else{ element.textContent = ' ';}"
      ],
      "text/plain": [
       "<IPython.core.display.Javascript object>"
      ]
     },
     "metadata": {},
     "output_type": "display_data"
    },
    {
     "data": {
      "application/javascript": [
       "if (typeof Jupyter !== \"undefined\") {require.undef(\"nbextensions/vpython_libraries/glow.min\");}else{element.textContent = ' ';}"
      ],
      "text/plain": [
       "<IPython.core.display.Javascript object>"
      ]
     },
     "metadata": {},
     "output_type": "display_data"
    },
    {
     "data": {
      "application/javascript": [
       "if (typeof Jupyter !== \"undefined\") {require.undef(\"nbextensions/vpython_libraries/glowcomm\");}else{element.textContent = ' ';}"
      ],
      "text/plain": [
       "<IPython.core.display.Javascript object>"
      ]
     },
     "metadata": {},
     "output_type": "display_data"
    },
    {
     "data": {
      "application/javascript": [
       "if (typeof Jupyter !== \"undefined\") {require.undef(\"nbextensions/vpython_libraries/jquery-ui.custom.min\");}else{element.textContent = ' ';}"
      ],
      "text/plain": [
       "<IPython.core.display.Javascript object>"
      ]
     },
     "metadata": {},
     "output_type": "display_data"
    },
    {
     "data": {
      "application/javascript": [
       "if (typeof Jupyter !== \"undefined\") {require([\"nbextensions/vpython_libraries/glow.min\"], function(){console.log(\"GLOW LOADED\");});}else{element.textContent = ' ';}"
      ],
      "text/plain": [
       "<IPython.core.display.Javascript object>"
      ]
     },
     "metadata": {},
     "output_type": "display_data"
    },
    {
     "data": {
      "application/javascript": [
       "if (typeof Jupyter !== \"undefined\") {require([\"nbextensions/vpython_libraries/glowcomm\"], function(){console.log(\"GLOWCOMM LOADED\");});}else{element.textContent = ' ';}"
      ],
      "text/plain": [
       "<IPython.core.display.Javascript object>"
      ]
     },
     "metadata": {},
     "output_type": "display_data"
    },
    {
     "data": {
      "application/javascript": [
       "if (typeof Jupyter !== \"undefined\") {require([\"nbextensions/vpython_libraries/jquery-ui.custom.min\"], function(){console.log(\"JQUERY LOADED\");});}else{element.textContent = ' ';}"
      ],
      "text/plain": [
       "<IPython.core.display.Javascript object>"
      ]
     },
     "metadata": {},
     "output_type": "display_data"
    }
   ],
   "source": [
    "from vpython import sphere, canvas, rate, vector, color, box\n",
    "import random as rd\n",
    "import numpy as np\n",
    "\n",
    "def RandomPos(r):\n",
    "    tht = 2*np.pi*rd.random()\n",
    "    x = np.floor(r*np.cos(tht))\n",
    "    y = np.floor(r*np.sin(tht))\n",
    "    return vector(x,y,0)\n",
    "    \n",
    "D = 101 #Dimensões do grid\n",
    "\n",
    "# Array com possiveis movimentos\n",
    "seq = [vector(1,0,0), vector(-1,0,0), vector(0,1,0), vector(0,-1,0)]    \n",
    "    \n",
    "# Inicialização da cena e dos objetos\n",
    "scene = canvas(title = 'Agregação limitada por difusão')\n",
    "b     = box(pos = vector(0,0,-0.1), length = D, height = D, width = 0.1) \n",
    "S_0   = sphere(pos = vector(0,0,0), radius = 0.5, color = vector(1,0,0))\n",
    "\n",
    "# Matriz que armazena a posição das partículas ancoradas\n",
    "# 1: Preenchida; 0: Disponível\n",
    "Anch = np.zeros([D+1,D+1], int)\n",
    "Anch[int((D-1)/2),int((D-1)/2)] = 1\n",
    "\n",
    "# Maior distancia entre a particula e o centro\n",
    "r = 1\n",
    "\n",
    "end = False\n",
    "i   = 0\n",
    "while end == False:\n",
    "    rate(5000)\n",
    "    choque = False\n",
    "    i += 0.00003\n",
    "    \n",
    "    # Inicializando a particula em um ponto aleatorio do circulo de raio r\n",
    "    S = sphere(pos = RandomPos(r), radius = 0.5, color = vector(1-i,i,0))\n",
    "    \n",
    "    while choque == False:\n",
    "        chc = rd.choice(seq)\n",
    "        \n",
    "        # Verificando se a particula nao atingiu uma outra particula ancorada ou a borda da tela\n",
    "        if abs(S.pos.y)<(D-1)/2 and abs(S.pos.x)<(D-1)/2 and Anch[int(S.pos.x + chc.x + (D-1)/2),int(-S.pos.y - chc.y + (D-1)/2)]==0:\n",
    "            S.pos += chc\n",
    "            \n",
    "            # Verificando se a particula se distanciou demais do centro\n",
    "            if np.hypot(S.pos.x, S.pos.y) > 2*r:\n",
    "                S.pos = RandomPos(r)\n",
    "                \n",
    "        # Caso a particula colida com uma outra particula atualizamos a matriz e r\n",
    "        else:\n",
    "            Anch[int(S.pos.x + (D-1)/2), int((D-1)/2 - S.pos.y)] = 1\n",
    "            r = np.hypot(S.pos.x, S.pos.y) + 1\n",
    "            choque = True\n",
    "            \n",
    "    # A animação acaba quando a agregação atingir metade do plano\n",
    "    if r > (D-1)/2:\n",
    "        end = True\n",
    "\n",
    "print(\"Fim\")"
   ]
  },
  {
   "cell_type": "code",
   "execution_count": null,
   "metadata": {},
   "outputs": [],
   "source": []
  },
  {
   "cell_type": "code",
   "execution_count": null,
   "metadata": {},
   "outputs": [],
   "source": []
  }
 ],
 "metadata": {
  "kernelspec": {
   "display_name": "Python 3",
   "language": "python",
   "name": "python3"
  },
  "language_info": {
   "codemirror_mode": {
    "name": "ipython",
    "version": 3
   },
   "file_extension": ".py",
   "mimetype": "text/x-python",
   "name": "python",
   "nbconvert_exporter": "python",
   "pygments_lexer": "ipython3",
   "version": "3.7.4"
  }
 },
 "nbformat": 4,
 "nbformat_minor": 2
}
