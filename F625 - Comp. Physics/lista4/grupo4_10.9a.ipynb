{
 "cells": [
  {
   "cell_type": "code",
   "execution_count": 1,
   "metadata": {},
   "outputs": [
    {
     "data": {
      "text/plain": [
       "<Figure size 640x480 with 1 Axes>"
      ]
     },
     "metadata": {},
     "output_type": "display_data"
    }
   ],
   "source": [
    "import numpy as np\n",
    "import matplotlib.pyplot as plt\n",
    "from numpy.random import *\n",
    "\n",
    "'''Simulação em estilo Metropolis do Modelo de\n",
    "Ising para a magnetização de um cristal 2D. As\n",
    "constantes são tomadas em unidades naturais, onde\n",
    "T = 1, k_b = 1 e J = 1.'''\n",
    "\n",
    "# Constantes\n",
    "rounds = int(1e6)   # Número de rodadas\n",
    "N      = 20         # Dimensão da matriz\n",
    "J      = 1          # Constante de Interação\n",
    "T      = 0.2          # Temperatura\n",
    "k_b    = 1          # Constante de Boltzmann\n",
    "b      = 1/(k_b*T)\n",
    "\n",
    "# Matriz onde será armazenado os spins\n",
    "S = (2*np.random.randint(0, 2, size = (N**2)) - 1).reshape(N,N)\n",
    "\n",
    "def Energy(S):\n",
    "    # Dimensão da matriz de spins\n",
    "    N = np.shape(S)[0]\n",
    "    \n",
    "    # Cálculo da interação entre vizinhos\n",
    "    E1 = S[0:N-1,:]*S[1:N,:]   # Interação entre vizinhos verticais\n",
    "    E2 = S[:,0:N-1]*S[:,1:N]   # Interação entre vizinhos horizontais\n",
    "\n",
    "    # A energia total é a soma de todas as interações de spins vizinhos\n",
    "    E = np.sum(E1) + np.sum(E2)\n",
    "    return -J*E\n",
    "\n",
    "def Spin_Change(S):\n",
    "    S_copy = S.copy()\n",
    "\n",
    "    # Escolha aleatória de um spin\n",
    "    i = randint(N)\n",
    "    j = randint(N)\n",
    "    \n",
    "    # Cálculo da energia antes e depois da mudança\n",
    "    E_old = Energy(S_copy)\n",
    "    S_copy[i,j] *= -1\n",
    "    E_new = Energy(S_copy)\n",
    "    \n",
    "    # Verificação para ver se o movimento é ou não aceito\n",
    "    dE = E_new - E_old\n",
    "    if dE > 0:\n",
    "        if random() < np.exp(-b*dE):\n",
    "            return S_copy\n",
    "        else:\n",
    "            S_copy[i,j] *= -1\n",
    "            return S_copy\n",
    "    else:\n",
    "        return S_copy\n",
    "        \n",
    "# Array de armazenamento da evolução da magnetização\n",
    "M_plot = []\n",
    "M = np.sum(S)\n",
    "\n",
    "for k in range(rounds):\n",
    "    S = Spin_Change(S)\n",
    "    \n",
    "    M += np.sum(S)\n",
    "    \n",
    "    M_plot.append(M/(k + 1))\n",
    "\n",
    "plt.figure()\n",
    "plt.plot(M_plot,'.k', markersize = 1)\n",
    "plt.xlabel('Rodadas', size = 14)\n",
    "plt.ylabel('Magnetização [u.a]', size = 14)\n",
    "plt.grid(alpha = 0.5)\n",
    "plt.show()"
   ]
  },
  {
   "cell_type": "code",
   "execution_count": null,
   "metadata": {},
   "outputs": [],
   "source": []
  }
 ],
 "metadata": {
  "kernelspec": {
   "display_name": "Python 3",
   "language": "python",
   "name": "python3"
  },
  "language_info": {
   "codemirror_mode": {
    "name": "ipython",
    "version": 3
   },
   "file_extension": ".py",
   "mimetype": "text/x-python",
   "name": "python",
   "nbconvert_exporter": "python",
   "pygments_lexer": "ipython3",
   "version": "3.7.4"
  }
 },
 "nbformat": 4,
 "nbformat_minor": 2
}
