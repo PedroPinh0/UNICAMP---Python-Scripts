{
 "cells": [
  {
   "cell_type": "code",
   "execution_count": 1,
   "metadata": {},
   "outputs": [
    {
     "data": {
      "text/plain": [
       "<Figure size 4500x1500 with 1 Axes>"
      ]
     },
     "metadata": {},
     "output_type": "display_data"
    }
   ],
   "source": [
    "import numpy as np\n",
    "import matplotlib.pyplot as plt\n",
    "\n",
    "# Leitura dos dados do aquivo\n",
    "dow_data = np.loadtxt('dow.txt')\n",
    "\n",
    "#Gráfico\n",
    "plt.figure(figsize = (15,5), dpi = 300)\n",
    "plt.plot(dow_data, '-k')\n",
    "plt.xlabel(\"# dia\", size = 14)\n",
    "plt.ylabel(\"[US$]\", size = 14)\n",
    "plt.grid(alpha = 0.5)\n",
    "plt.savefig('im_7_4a', dpi = 300)\n",
    "plt.show()"
   ]
  }
 ],
 "metadata": {
  "kernelspec": {
   "display_name": "Python 3",
   "language": "python",
   "name": "python3"
  },
  "language_info": {
   "codemirror_mode": {
    "name": "ipython",
    "version": 3
   },
   "file_extension": ".py",
   "mimetype": "text/x-python",
   "name": "python",
   "nbconvert_exporter": "python",
   "pygments_lexer": "ipython3",
   "version": "3.7.1"
  }
 },
 "nbformat": 4,
 "nbformat_minor": 4
}
