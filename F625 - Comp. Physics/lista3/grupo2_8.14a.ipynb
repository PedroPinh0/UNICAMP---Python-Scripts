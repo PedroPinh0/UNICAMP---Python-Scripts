{
 "cells": [
  {
   "cell_type": "code",
   "execution_count": 7,
   "metadata": {},
   "outputs": [
    {
     "name": "stdout",
     "output_type": "stream",
     "text": [
      "[138.01421509 414.04264562 690.07107723]\n",
      "-276.02843053\n"
     ]
    }
   ],
   "source": [
    "import numpy as np\n",
    "import matplotlib.pyplot as plt\n",
    "\n",
    "m     = 9.109383701e-31  #[Kg]\n",
    "hbar  = 1.054516817e-34  #[J*s]\n",
    "e     = 1.602176634e-19  #[C]\n",
    "V0    = 50*e             #[J]\n",
    "a     = 1.0e-11          #[m]\n",
    "N     = 1000\n",
    "h     = 20*a/N\n",
    "\n",
    "X = np.arange(-10*a,10*a,h)\n",
    "\n",
    "def V(x):\n",
    "    return V0*(x/a)**2\n",
    "\n",
    "def F(r,x,E):\n",
    "    psi = r[0]\n",
    "    phi = r[1]\n",
    "    Fpsi = phi\n",
    "    Fphi = (2*m/hbar**2)*(V(x)-E)*psi\n",
    "    return np.array([Fpsi,Fphi],float)\n",
    "\n",
    "def Schrd_Solve(F,r0,E):\n",
    "    r   = r0.copy()\n",
    "    Psi = np.array([],float)\n",
    "    for x in X:\n",
    "        Psi = np.append(Psi, r[0])\n",
    "        k1 = h*F(r,x,E)\n",
    "        k2 = h*F(r+0.5*k1,x+0.5*h,E)\n",
    "        k3 = h*F(r+0.5*k2,x+0.5*h,E)\n",
    "        k4 = h*F(r+k3,x+h,E)\n",
    "        r += (k1+2*k2+2*k3+k4)/6\n",
    "    return Psi \n",
    "\n",
    "r0 = np.array([0.0,1.0])\n",
    "err = e/1e4\n",
    "\n",
    "E_array = np.array([], float)\n",
    "\n",
    "E1 = 0\n",
    "E2 = e\n",
    "psi2 = Schrd_Solve(F,r0,E1)[-1]\n",
    "\n",
    "for k in range(3):\n",
    "    while abs(E2 - E1) > err:\n",
    "        psi1, psi2 = psi2, Schrd_Solve(F,r0,E2)[-1]\n",
    "        E1,E2 = E2, E2 - psi2*(E2 - E1)/(psi2 - psi1)\n",
    "    \n",
    "    E_array = np.append(E_array,E2)\n",
    "    E1 = E2*1.5\n",
    "    E2 = E1 + e\n",
    "print(E_array/e)"
   ]
  }
 ],
 "metadata": {
  "kernelspec": {
   "display_name": "Python 3",
   "language": "python",
   "name": "python3"
  },
  "language_info": {
   "codemirror_mode": {
    "name": "ipython",
    "version": 3
   },
   "file_extension": ".py",
   "mimetype": "text/x-python",
   "name": "python",
   "nbconvert_exporter": "python",
   "pygments_lexer": "ipython3",
   "version": "3.7.1"
  }
 },
 "nbformat": 4,
 "nbformat_minor": 2
}
