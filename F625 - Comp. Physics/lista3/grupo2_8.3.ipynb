{
 "cells": [
  {
   "cell_type": "code",
   "execution_count": 1,
   "metadata": {},
   "outputs": [
    {
     "data": {
      "text/plain": [
       "<Figure size 1500x500 with 1 Axes>"
      ]
     },
     "metadata": {},
     "output_type": "display_data"
    },
    {
     "data": {
      "text/plain": [
       "<Figure size 1500x500 with 1 Axes>"
      ]
     },
     "metadata": {},
     "output_type": "display_data"
    }
   ],
   "source": [
    "import numpy as np\n",
    "import matplotlib.pyplot as plt\n",
    "\n",
    "# Função contendo o sistema de equações de Lorenz\n",
    "def F(p0):\n",
    "    sig = 10\n",
    "    r   = 28\n",
    "    b   = 8/3\n",
    "    x,y,z = p0[0], p0[1], p0[2]\n",
    "    \n",
    "    Dx = sig*(y - x)\n",
    "    Dy = x*(r - z) - y\n",
    "    Dz = x*y - b*z\n",
    "    \n",
    "    return np.array([Dx,Dy,Dz], float)\n",
    "\n",
    "# Espaçamento dos pontos\n",
    "N  = 10000.0\n",
    "h  = 50/N\n",
    "\n",
    "# Array com o intervalo de tempo\n",
    "T = np.arange(0,50,h)\n",
    "\n",
    "# Inicialização das soluções\n",
    "x = np.array([])\n",
    "y = np.array([])\n",
    "z = np.array([])\n",
    "\n",
    "# Condições iniciais\n",
    "p0 = np.array([0, 1, 0], float)\n",
    "\n",
    "# Resolução da EDO por meio de RK4\n",
    "for t in T:\n",
    "    x = np.append(x, p0[0])\n",
    "    y = np.append(y, p0[1])\n",
    "    z = np.append(z, p0[2])\n",
    "    \n",
    "    k1 = h*F(p0)\n",
    "    k2 = h*F(p0 + k1/2)\n",
    "    k3 = h*F(p0 + k2/2)\n",
    "    k4 = h*F(p0 + k3)\n",
    "    p0 += (k1 + 2*k2 + 2*k3 + k4)/6\n",
    "\n",
    "# Apresentação da solução\n",
    "plt.figure(figsize = (15,5))\n",
    "plt.plot(T, y, '-k')\n",
    "plt.xlabel('T [u.a]', size = 14)\n",
    "plt.ylabel('Y [u.a]', size = 14)\n",
    "plt.show()\n",
    "\n",
    "plt.figure(figsize = (15,5))\n",
    "plt.plot(x, z, '-k')\n",
    "plt.xlabel('X [u.a]', size = 14)\n",
    "plt.ylabel('Z [u.a]', size = 14)\n",
    "plt.show()"
   ]
  }
 ],
 "metadata": {
  "kernelspec": {
   "display_name": "Python 3",
   "language": "python",
   "name": "python3"
  },
  "language_info": {
   "codemirror_mode": {
    "name": "ipython",
    "version": 3
   },
   "file_extension": ".py",
   "mimetype": "text/x-python",
   "name": "python",
   "nbconvert_exporter": "python",
   "pygments_lexer": "ipython3",
   "version": "3.7.1"
  }
 },
 "nbformat": 4,
 "nbformat_minor": 2
}
