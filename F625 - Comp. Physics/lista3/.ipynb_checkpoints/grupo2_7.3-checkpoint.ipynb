{
 "cells": [
  {
   "cell_type": "code",
   "execution_count": null,
   "metadata": {},
   "outputs": [],
   "source": [
    "import numpy as np\n",
    "import matplotlib.pyplot as plt\n",
    "from scipy.signal import find_peaks\n",
    "\n",
    "###########################################################\n",
    "#--Esta função tem o próposito de analisar o espectro-----#\n",
    "#--de frequencias de um array unidimensional. Além--------#\n",
    "#--do array, a função também recebe como argumento o------#\n",
    "#--número de coeficientes que interessa. As frequências---#\n",
    "#--correspondentes aos picos no espectro são entregues.---#\n",
    "#--Se temos N dados, coletados em uma frequência de 'F_s'-#\n",
    "#--pontos por segundo, então a relação entre índice k e---#\n",
    "#--frequência 'f' em Hz é dada por: f = F_s*k/N.----------#\n",
    "###########################################################\n",
    "\n",
    "def FT_analys(f,M):\n",
    "    n = range(len(f))\n",
    "    \n",
    "    # Gráfico do array original\n",
    "    plt.figure(figsize = (15,5), dpi = 300)\n",
    "    plt.plot(n, f/max(f), '.r', markersize = 1)\n",
    "    plt.xlim(0,len(f))\n",
    "    plt.xlabel(\"Amostragem\", size = 14)\n",
    "    plt.ylabel(\"Intensidade Relativa\", size = 14)\n",
    "    plt.show()\n",
    "    \n",
    "    # ck_sk: Módulo ao quadrado dos coeficientes de FT\n",
    "    # F_s:   Frequência de coleta do Sinal\n",
    "    \n",
    "    ck_sq = np.sqrt(abs(np.fft.fft(f))[:M]**2)\n",
    "    F_s   = 44100    #[Hz]\n",
    "    \n",
    "    # Índice dos picos no expectro\n",
    "    peaks = find_peaks(ck_sq, distance = 500, height = 0.4e7)[0]\n",
    "    print(\"As frequências principais são, em Hz: \", peaks*F_s/len(f))\n",
    "    \n",
    "    # Gráfico do espectro reduzido mostrando os picos de frequência\n",
    "    plt.figure(figsize = (15,5), dpi = 300)\n",
    "    plt.plot(n[:M], ck_sq, '-k', label = 'Espectro')\n",
    "    plt.plot(peaks, ck_sq[peaks], '.r', label = 'Picos')\n",
    "    plt.xlim(0,M)\n",
    "    plt.xlabel(\"Vetor de onda k\", size = 14)\n",
    "    plt.ylabel(\"Amplitude\", size = 14)\n",
    "    plt.legend(loc = 'best')\n",
    "    plt.show()\n",
    "\n",
    "    \n",
    "# Leitura dos dados dos instrumentos\n",
    "trumpet = np.loadtxt('trumpet.txt')\n",
    "piano   = np.loadtxt('piano.txt')\n",
    "\n",
    "# M:     Número de coeficientes de interesse no espectro.\n",
    "M = 10000\n",
    "FT_analys(trumpet, M)\n",
    "FT_analys(piano, M)"
   ]
  },
  {
   "cell_type": "code",
   "execution_count": null,
   "metadata": {},
   "outputs": [],
   "source": []
  }
 ],
 "metadata": {
  "kernelspec": {
   "display_name": "Python 3",
   "language": "python",
   "name": "python3"
  },
  "language_info": {
   "codemirror_mode": {
    "name": "ipython",
    "version": 3
   },
   "file_extension": ".py",
   "mimetype": "text/x-python",
   "name": "python",
   "nbconvert_exporter": "python",
   "pygments_lexer": "ipython3",
   "version": "3.7.1"
  }
 },
 "nbformat": 4,
 "nbformat_minor": 2
}
