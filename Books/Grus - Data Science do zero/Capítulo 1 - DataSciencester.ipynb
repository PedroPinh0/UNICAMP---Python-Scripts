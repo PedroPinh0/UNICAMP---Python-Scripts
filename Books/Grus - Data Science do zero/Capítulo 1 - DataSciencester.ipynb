{
 "cells": [
  {
   "cell_type": "code",
   "execution_count": 118,
   "metadata": {},
   "outputs": [],
   "source": [
    "import numpy as np\n",
    "import pandas as pd\n",
    "import matplotlib.pyplot as plt\n",
    "from collections import Counter\n",
    "from collections import defaultdict"
   ]
  },
  {
   "cell_type": "markdown",
   "metadata": {},
   "source": [
    "## Dicionário de usuários, amigos e interesses"
   ]
  },
  {
   "cell_type": "code",
   "execution_count": 117,
   "metadata": {},
   "outputs": [],
   "source": [
    "users = [{ \"id\": 0, \"name\": \"Hero\" }, \n",
    "         { \"id\": 1, \"name\": \"Dunn\" }, \n",
    "         { \"id\": 2, \"name\": \"Sue\" },\n",
    "         { \"id\": 3, \"name\": \"Chi\" },\n",
    "         { \"id\": 4, \"name\": \"Thor\" },\n",
    "         { \"id\": 5, \"name\": \"Clive\" }, \n",
    "         { \"id\": 6, \"name\": \"Hicks\" }, \n",
    "         { \"id\": 7, \"name\": \"Devin\" }, \n",
    "         { \"id\": 8, \"name\": \"Kate\" }, \n",
    "         { \"id\": 9, \"name\": \"Klein\" }]\n",
    "\n",
    "friendships = [(0, 1), (0, 2), (1, 2), (1, 3), \n",
    "               (2, 3), (3, 4), (4, 5), (5, 6), \n",
    "               (5, 7), (6, 8), (7, 8), (8, 9)]\n",
    "\n",
    "interests = [(0, \"Hadoop\"), (0, \"Big Data\"), (0, \"HBase\"), (0, \"Java\"), (0, \"Spark\"), (0, \"Storm\"), \n",
    "             (0, \"Cassandra\"), (1, \"NoSQL\"), (1, \"MongoDB\"), (1, \"Cassandra\"), (1, \"HBase\"), (1, \"Postgres\"), \n",
    "             (2, \"Python\"), (2, \"scikit-learn\"), (2, \"scipy\"), (2, \"numpy\"), (2, \"statsmodels\"), (2, \"pandas\"), \n",
    "             (3, \"R\"), (3, \"Python\"), (3, \"statistics\"), (3, \"regression\"), (3, \"probability\"), \n",
    "             (4, \"machine learning\"), (4, \"regression\"), (4, \"decision trees\"), (4, \"libsvm\"),\n",
    "             (5, \"Python\"), (5, \"R\"), (5, \"Java\"), (5, \"C++\"), (5, \"Haskell\"), (5, \"programming languages\"),\n",
    "             (6, \"statistics\"), (6, \"probability\"), (6, \"mathematics\"), (6, \"theory\"), (7, \"machine learning\"),\n",
    "             (7, \"scikit-learn\"), (7, \"Mahout\"), (7, \"neural networks\"), (8, \"neural networks\"),\n",
    "             (8, \"deep learning\"), (8, \"Big Data\"), (8, \"artificial intelligence\"), (9, \"Hadoop\"), \n",
    "             (9, \"Java\"), (9, \"MapReduce\"), (9, \"Big Data\")]\n"
   ]
  },
  {
   "cell_type": "markdown",
   "metadata": {},
   "source": [
    "## Adição da informação de amizade no dicionário"
   ]
  },
  {
   "cell_type": "code",
   "execution_count": 70,
   "metadata": {},
   "outputs": [],
   "source": [
    "for user in users:\n",
    "    user[\"friends\"] = []   #Cria a coluna amigos\n",
    "    \n",
    "for i,j in friendships:\n",
    "    users[i]['friends'].append(users[j]) #Adiciona j como amigo de i\n",
    "    users[j]['friends'].append(users[i]) #Adiciona i como amigo de j"
   ]
  },
  {
   "cell_type": "markdown",
   "metadata": {},
   "source": [
    "## Qual o número médio de conexões?"
   ]
  },
  {
   "cell_type": "code",
   "execution_count": 71,
   "metadata": {},
   "outputs": [
    {
     "name": "stdout",
     "output_type": "stream",
     "text": [
      "Cada usuário tem em média 2.4 amigos\n"
     ]
    }
   ],
   "source": [
    "#Número total de conexão por usuário\n",
    "def number_of_friends(user):\n",
    "    return len(user[\"friends\"])\n",
    "\n",
    "total_connections = sum(number_of_friends(user) for user in users)\n",
    "num_users = len(users)\n",
    "\n",
    "mean_connections = total_connections/num_users\n",
    "print(\"Cada usuário tem em média %.1f amigos\" %mean_connections)"
   ]
  },
  {
   "cell_type": "markdown",
   "metadata": {},
   "source": [
    "## Qual usuário tem mais amigos?"
   ]
  },
  {
   "cell_type": "code",
   "execution_count": 72,
   "metadata": {},
   "outputs": [
    {
     "data": {
      "text/plain": [
       "[(1, 3),\n",
       " (2, 3),\n",
       " (3, 3),\n",
       " (5, 3),\n",
       " (8, 3),\n",
       " (0, 2),\n",
       " (4, 2),\n",
       " (6, 2),\n",
       " (7, 2),\n",
       " (9, 1)]"
      ]
     },
     "execution_count": 72,
     "metadata": {},
     "output_type": "execute_result"
    }
   ],
   "source": [
    "#cria uma lista (user_id, num_friends)\n",
    "num_friends_by_id = [(user[\"id\"], number_of_friends(user)) for user in users]\n",
    "\n",
    "#Ordenação por num_friends\n",
    "sorted(num_friends_by_id, key = lambda ENTRY: ENTRY[1], reverse = True)"
   ]
  },
  {
   "cell_type": "markdown",
   "metadata": {},
   "source": [
    "## Contagem de Amigos em Comun (FoaF):"
   ]
  },
  {
   "cell_type": "markdown",
   "metadata": {},
   "source": [
    "### Forma ruim"
   ]
  },
  {
   "cell_type": "code",
   "execution_count": 97,
   "metadata": {},
   "outputs": [
    {
     "data": {
      "text/plain": [
       "[0, 2, 3, 0, 1, 3, 3, 5]"
      ]
     },
     "execution_count": 97,
     "metadata": {},
     "output_type": "execute_result"
    }
   ],
   "source": [
    "#Para cada amigo de um usuário, itera sobre os amigos daquela pessoa, e coleta todos os resultados\n",
    "def FoaF_id_bad(user):\n",
    "    return [foaf[\"id\"] \n",
    "            for friend in user[\"friends\"]    #Para cada amigo do usuario 'user'\n",
    "            for foaf in friend[\"friends\"]]  #Para cada amigo do amigo do usuario 'user'\n",
    "\n",
    "#Amigo dos amigos do usuário id:0\n",
    "FoaF_id_bad(users[3])"
   ]
  },
  {
   "cell_type": "markdown",
   "metadata": {},
   "source": [
    "Essa maneira inclui tanto a propria pessoa caso ela já seja amiga dos amigos dela e também repete as pessoas na lisca caso elas sejam acessíveis por meio de 2 ou mais amigos diferentes. É necessário remover as pessoas já conhecidas e repetidas (vide Forma boa)"
   ]
  },
  {
   "cell_type": "markdown",
   "metadata": {},
   "source": [
    "### Forma boa"
   ]
  },
  {
   "cell_type": "code",
   "execution_count": 116,
   "metadata": {},
   "outputs": [
    {
     "name": "stdout",
     "output_type": "stream",
     "text": [
      "Counter({0: 2, 5: 1})\n"
     ]
    }
   ],
   "source": [
    "#user2 não é amiga de user1 se ela não está em user1[\"friends\"]\n",
    "#ou seja, se user2 é not_the_same com ngm de user1[\"friends\"]\n",
    "def not_friends(user1, user2):\n",
    "    return all(friend[\"id\"] != user2[\"id\"] for friend in user1[\"friends\"])\n",
    "\n",
    "def FoaF_id(user):\n",
    "    return Counter(foaf[\"id\"] \n",
    "                   for friend in user[\"friends\"] \n",
    "                   for foaf in friend[\"friends\"]\n",
    "                   if user[\"id\"]!=foaf[\"id\"] and not_friends(user,foaf))\n",
    "                   \n",
    "print(FoaF_id(users[3]))"
   ]
  },
  {
   "cell_type": "markdown",
   "metadata": {},
   "source": [
    "## Sugestão de usuários com mesmos interesses"
   ]
  },
  {
   "cell_type": "code",
   "execution_count": 130,
   "metadata": {},
   "outputs": [
    {
     "name": "stdout",
     "output_type": "stream",
     "text": [
      "Counter({5: 2, 6: 2, 2: 1, 4: 1})\n"
     ]
    }
   ],
   "source": [
    "# As chaves são interesses, os valores são listas de user_ids com interests\n",
    "user_id_by_interest = defaultdict(list)\n",
    "for user_id, interest in interests:\n",
    "    user_id_by_interest[interest].append(user_id)\n",
    "    \n",
    "# As chaves são user_ids, os valores são as listas de interests para aquele user_id\n",
    "interests_by_user_id = defaultdict(list)\n",
    "for user_id, interest in interests: \n",
    "    interests_by_user_id[user_id].append(interest)\n",
    "    \n",
    "def most_common_interests_with(user): \n",
    "    return Counter(interested_user_id \n",
    "                   for interest in interests_by_user_id[user[\"id\"]]\n",
    "                   for interested_user_id in user_id_by_interest[interest] if interested_user_id != user[\"id\"])\n",
    "\n",
    "print(most_common_interests_with(users[3]))"
   ]
  },
  {
   "cell_type": "markdown",
   "metadata": {},
   "source": [
    "## Tópicos de maior interesse"
   ]
  },
  {
   "cell_type": "code",
   "execution_count": 132,
   "metadata": {},
   "outputs": [
    {
     "name": "stdout",
     "output_type": "stream",
     "text": [
      "big 3\n",
      "data 3\n",
      "java 3\n",
      "python 3\n",
      "learning 3\n",
      "hadoop 2\n",
      "hbase 2\n",
      "cassandra 2\n",
      "scikit-learn 2\n",
      "r 2\n",
      "statistics 2\n",
      "regression 2\n",
      "probability 2\n",
      "machine 2\n",
      "neural 2\n",
      "networks 2\n"
     ]
    }
   ],
   "source": [
    "words_and_counts = Counter(word \n",
    "                           for user, interest in interests \n",
    "                           for word in interest.lower().split())\n",
    "\n",
    "for word, count in words_and_counts.most_common():\n",
    "    if count > 1:\n",
    "        print(word, count)"
   ]
  },
  {
   "cell_type": "markdown",
   "metadata": {},
   "source": [
    "## "
   ]
  }
 ],
 "metadata": {
  "kernelspec": {
   "display_name": "Python 3",
   "language": "python",
   "name": "python3"
  },
  "language_info": {
   "codemirror_mode": {
    "name": "ipython",
    "version": 3
   },
   "file_extension": ".py",
   "mimetype": "text/x-python",
   "name": "python",
   "nbconvert_exporter": "python",
   "pygments_lexer": "ipython3",
   "version": "3.7.4"
  }
 },
 "nbformat": 4,
 "nbformat_minor": 2
}
