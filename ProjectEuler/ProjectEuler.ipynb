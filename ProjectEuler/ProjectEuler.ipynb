{
 "cells": [
  {
   "cell_type": "markdown",
   "metadata": {},
   "source": [
    "PEDRO PINHO - 2018\n",
    "\n",
    "Usuario      - PedroP1nh0  \n",
    "Senha        - Pedro181  \n",
    "Recovery key - 1262547-pq2Jho3N6LDPj4VNW1KopqPeUDFkH8sVKL5m1dsb  \n",
    "\n",
    "Arquivo com minhas soluções dos problemas do ProjectEuler (https://projecteuler.net)"
   ]
  },
  {
   "cell_type": "code",
   "execution_count": 1,
   "metadata": {},
   "outputs": [],
   "source": [
    "#Pacotes uteis\n",
    "import pandas as pd\n",
    "import numpy as np\n",
    "from numpy import linalg as lin\n",
    "import matplotlib.pyplot as plt\n",
    "from scipy.integrate import odeint\n",
    "from itertools import islice, count\n",
    "import pylab as pl\n",
    "import time\n",
    "from array import array\n",
    "from math import *\n",
    "%matplotlib inline"
   ]
  },
  {
   "cell_type": "code",
   "execution_count": 2,
   "metadata": {},
   "outputs": [
    {
     "name": "stdout",
     "output_type": "stream",
     "text": [
      "233168\n"
     ]
    }
   ],
   "source": [
    "#ID 1\n",
    "\n",
    "soma = 0\n",
    "\n",
    "#Verifica se algum numero é divisivel por 3 OU 5\n",
    "for count in range(1,1000):\n",
    "    if ((count % 3) == 0 or (count % 5) == 0):\n",
    "        soma += count #Se divisivel, acrescenta à soma\n",
    "\n",
    "print(soma)"
   ]
  },
  {
   "cell_type": "code",
   "execution_count": 3,
   "metadata": {},
   "outputs": [
    {
     "name": "stdout",
     "output_type": "stream",
     "text": [
      "4613732\n"
     ]
    }
   ],
   "source": [
    "#ID 2\n",
    "\n",
    "fib  = 0 #Inicialização de variavel\n",
    "aux1 = 1 #Segundo fibonacci\n",
    "aux2 = 1 #Primeiro fibonacci\n",
    "soma = 0 #Soma dos termos anteriores\n",
    "\n",
    "while (fib < 4000001):\n",
    "    fib = aux1 + aux2 #Calcula próximo fibonacci\n",
    "    aux1  = aux2      #Armazena o anterior\n",
    "    aux2 = fib        #Armazena o novo fibonacci\n",
    "    if fib % 2 == 0:  #Se novo for par, acrescenta à soma\n",
    "        soma += fib\n",
    "print(soma)"
   ]
  },
  {
   "cell_type": "code",
   "execution_count": 4,
   "metadata": {},
   "outputs": [
    {
     "name": "stdout",
     "output_type": "stream",
     "text": [
      "6857\n"
     ]
    }
   ],
   "source": [
    "#ID 3\n",
    "\n",
    "num = 600851475143 #Numero à checar\n",
    "aux = 2            #Primeiro primo\n",
    "\n",
    "while aux <= num:     \n",
    "    if num%aux == 0:\n",
    "        num = num/aux #Se 'num' for divisivel fatorar até não ser mais  \n",
    "        PrimeF = aux  #Maior primo é o valor de 'aux'\n",
    "    else:\n",
    "        aux += 1      #Se não for divisivel, avançar pra próximo fator\n",
    "print(PrimeF)"
   ]
  },
  {
   "cell_type": "code",
   "execution_count": 5,
   "metadata": {},
   "outputs": [
    {
     "name": "stdout",
     "output_type": "stream",
     "text": [
      "906609\n"
     ]
    }
   ],
   "source": [
    "#ID 4\n",
    "\n",
    "Min, Max = 100,999\n",
    "Bigger = 10001\n",
    "\n",
    "for m in range(Min,Max+1,1):\n",
    "    for n in range(Min,Max+1,1):   \n",
    "        if m <= n:  \n",
    "            prod = m*n            #Testar todos os possivel produtos entre Min e Max\n",
    "            if str(prod) == str(prod)[::-1]:  #Se for palindromo fazer teste de ser maior que o anterior\n",
    "                if(prod > Bigger):                 \n",
    "                    Bigger = prod             #Se afirmativo, atualizar maior\n",
    "print(Bigger)"
   ]
  },
  {
   "cell_type": "code",
   "execution_count": 6,
   "metadata": {},
   "outputs": [],
   "source": [
    "#ID 5 \n",
    "\n",
    "#Resolvido no papel, ver overview disponibilizado no site"
   ]
  },
  {
   "cell_type": "code",
   "execution_count": 7,
   "metadata": {},
   "outputs": [
    {
     "name": "stdout",
     "output_type": "stream",
     "text": [
      "25164150.0\n"
     ]
    }
   ],
   "source": [
    "#ID 6\n",
    "\n",
    "n = 100\n",
    "Sq_Sum = (((n+1)*n)/2)**2        #Soma de n termos de uma PA de fator r = 1\n",
    "\n",
    "soma = 0\n",
    "for i in range(1,101):\n",
    "    soma = soma + i**2           #Soma dos quadrados de 1 até n\n",
    "\n",
    "diff = Sq_Sum - soma             #Diferença\n",
    "\n",
    "print(diff)"
   ]
  },
  {
   "cell_type": "code",
   "execution_count": 8,
   "metadata": {},
   "outputs": [
    {
     "name": "stdout",
     "output_type": "stream",
     "text": [
      "104743\n"
     ]
    }
   ],
   "source": [
    "#ID 7 \n",
    "\n",
    "def is_prime(n):\n",
    "    if n % 2 == 0: return False     #Verifica se é divisivel por numeros pares \n",
    "    p = 3\n",
    "    while p < n**0.5+1:              #Caso contrário, testar fatores impares\n",
    "        if n % p == 0: return False\n",
    "        p += 2\n",
    "    return True                     #Retorna True se não for divisivel nem por pares nem por impares\n",
    " \n",
    "def nth_prime(n):\n",
    "    prime = 2        #Primeiro primo\n",
    "    count = 1        #Posição do primeiro primo\n",
    "    iter = 3         #Próximo primo\n",
    "    while count < n:\n",
    "        if is_prime(iter):   #Verifica se o próximo é primo\n",
    "            prime = iter     #Se afirmativo, atualiza\n",
    "            count += 1       #Aumenta a posição do primo\n",
    "        iter += 2           #Por ter começado em um primo impar é impossivel que o próximo seja par \n",
    "    return prime\n",
    " \n",
    "print(nth_prime(10001))"
   ]
  },
  {
   "cell_type": "code",
   "execution_count": 9,
   "metadata": {},
   "outputs": [
    {
     "name": "stdout",
     "output_type": "stream",
     "text": [
      "23514624000\n"
     ]
    }
   ],
   "source": [
    "#ID 8\n",
    "\n",
    "n = 7316717653133062491922511967442657474235534919493496983520312774506326239578318016984801869478851843858615607891129494954595017379583319528532088055111254069874715852386305071569329096329522744304355766896648950445244523161731856403098711121722383113622298934233803081353362766142828064444866452387493035890729629049156044077239071381051585930796086670172427121883998797908792274921901699720888093776657273330010533678812202354218097512545405947522435258490771167055601360483958644670632441572215539753697817977846174064955149290862569321978468622482839722413756570560574902614079729686524145351004748216637048440319989000889524345065854122758866688116427171479924442928230863465674813919123162824586178664583591245665294765456828489128831426076900422421902267105562632111110937054421750694165896040807198403850962455444362981230987879927244284909188845801561660979191338754992005240636899125607176060588611646710940507754100225698315520005593572972571636269561882670428252483600823257530420752963450\n",
    "digits = [int(d) for d in str(n)] #Transforma o numero em uma lista de digitos\n",
    "\n",
    "prod  = 1    #Inicialização produto \n",
    "Maior = 1    #Maior produto até o momento\n",
    "k     = 1   #Contagem da posição\n",
    "\n",
    "while(k <= 1000):\n",
    "    prod = 1\n",
    "    for i in range(0+k,13+k):   #Multiplicação dos 13 digitos\n",
    "        if 14+k > 999:       #Condição para não passar do limite do vetor\n",
    "            break\n",
    "        prod = prod*digits[i]\n",
    "        \n",
    "    if prod > Maior:    #Comparação entre os produtos\n",
    "        Maior = prod\n",
    "   \n",
    "    k+=1\n",
    "print(Maior)"
   ]
  },
  {
   "cell_type": "code",
   "execution_count": 10,
   "metadata": {},
   "outputs": [
    {
     "name": "stdout",
     "output_type": "stream",
     "text": [
      "(31875000.0, 200, 375, 425.0)\n"
     ]
    }
   ],
   "source": [
    "#ID 9\n",
    "\n",
    "def Pyt(n):\n",
    "    for a in range(1,n):\n",
    "        for b in range(1,n):\n",
    "            if (1e6 - 2e3*(a+b) + 2*a*b == 0):\n",
    "                c = np.sqrt(a**2 + b**2)\n",
    "                prod = a*b*c\n",
    "                return prod, a, b, c\n",
    "            \n",
    "print(Pyt(1000))"
   ]
  },
  {
   "cell_type": "code",
   "execution_count": 45,
   "metadata": {},
   "outputs": [
    {
     "name": "stdout",
     "output_type": "stream",
     "text": [
      "142913828922\n"
     ]
    }
   ],
   "source": [
    "#ID 10\n",
    "\n",
    "#Implementation of Sieve of Eratosthenes in python\n",
    "\n",
    "def sieve(N):\n",
    "    \n",
    "    #Range of number we want to test [2,N]\n",
    "    primes = [1]*N   #Create an array of zeros\n",
    "    primes[0] = 0\n",
    "    primes[1] = 0\n",
    "   \n",
    "    i = 2\n",
    "    while i*i <= N:\n",
    "        if primes[i] == 0:\n",
    "            i += 1\n",
    "            continue\n",
    "        \n",
    "        j = 2*i\n",
    "        \n",
    "        while j < N:\n",
    "            primes[j] = 0\n",
    "            j += i\n",
    "        \n",
    "        i += 1\n",
    "        \n",
    "sieve(2000000)\n",
    "\n",
    "summ = 0\n",
    "for i in range(0,N):\n",
    "    if primes[i] == 1:\n",
    "        summ += i\n",
    "        \n",
    "print(summ)"
   ]
  },
  {
   "cell_type": "code",
   "execution_count": null,
   "metadata": {},
   "outputs": [],
   "source": [
    "#ID 11\n"
   ]
  }
 ],
 "metadata": {
  "kernelspec": {
   "display_name": "Python 3",
   "language": "python",
   "name": "python3"
  },
  "language_info": {
   "codemirror_mode": {
    "name": "ipython",
    "version": 3
   },
   "file_extension": ".py",
   "mimetype": "text/x-python",
   "name": "python",
   "nbconvert_exporter": "python",
   "pygments_lexer": "ipython3",
   "version": "3.7.4"
  }
 },
 "nbformat": 4,
 "nbformat_minor": 2
}
